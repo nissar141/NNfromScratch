{
 "cells": [
  {
   "cell_type": "code",
   "execution_count": 19,
   "id": "ae52a605-a3ab-4f2d-a737-4cd195a6b995",
   "metadata": {},
   "outputs": [],
   "source": [
    "import numpy as np\n",
    "import matplotlib.pyplot as plt\n",
    "import nnfn, nndf"
   ]
  },
  {
   "cell_type": "code",
   "execution_count": 20,
   "id": "b289f930-c078-4f33-981d-f7f5a6850028",
   "metadata": {},
   "outputs": [],
   "source": [
    "images_train = nndf.read_idx('train-images.idx3-ubyte')\n",
    "labels_train = nndf.read_idx('train-labels.idx1-ubyte')\n",
    "images_dev = nndf.read_idx('t10k-images.idx3-ubyte')\n",
    "labels_dev = nndf.read_idx('t10k-labels.idx1-ubyte')"
   ]
  },
  {
   "cell_type": "code",
   "execution_count": 30,
   "id": "be2cfef1-5afe-44c0-8418-8f3d5ad8e239",
   "metadata": {},
   "outputs": [
    {
     "data": {
      "text/plain": [
       "<module 'nndf' from 'C:\\\\Users\\\\nissa\\\\Documents\\\\nnpy\\\\nndf.py'>"
      ]
     },
     "execution_count": 30,
     "metadata": {},
     "output_type": "execute_result"
    }
   ],
   "source": [
    "import importlib\n",
    "importlib.reload(nnfn)\n",
    "importlib.reload(nndf)"
   ]
  },
  {
   "cell_type": "code",
   "execution_count": 22,
   "id": "317a8eff-1091-4f26-b792-6730250dffb8",
   "metadata": {},
   "outputs": [
    {
     "data": {
      "image/png": "[encoded data removed]",
      "text/plain": [
       "<Figure size 640x480 with 1 Axes>"
      ]
     },
     "metadata": {},
     "output_type": "display_data"
    }
   ],
   "source": [
    "plt.imshow(images_train[0], cmap='gray')\n",
    "plt.show()"
   ]
  },
  {
   "cell_type": "code",
   "execution_count": 31,
   "id": "cbb3561f-a3c6-4701-ae2e-75188ae75c96",
   "metadata": {},
   "outputs": [],
   "source": [
    "classes = 10\n",
    "X = images_train.reshape(60000,-1).T/255\n",
    "Xd = images_dev.reshape(10000,-1).T/255\n",
    "Y = np.eye(classes)[labels_train].T\n",
    "Yd = np.eye(classes)[labels_dev].T"
   ]
  },
  {
   "cell_type": "code",
   "execution_count": 32,
   "id": "4b9a808e-9826-4df8-8729-4f057ff73a96",
   "metadata": {},
   "outputs": [],
   "source": [
    "W, b = nnfn.randomWeights([X.shape[0],classes])\n",
    "alpha = 0.01"
   ]
  },
  {
   "cell_type": "code",
   "execution_count": 33,
   "id": "5d71ba71-050e-4e76-983f-0d1f39da234d",
   "metadata": {},
   "outputs": [
    {
     "data": {
      "text/plain": [
       "(784, 10)"
      ]
     },
     "execution_count": 33,
     "metadata": {},
     "output_type": "execute_result"
    }
   ],
   "source": [
    "W[0].shape"
   ]
  },
  {
   "cell_type": "code",
   "execution_count": 34,
   "id": "7fc2f10f-12d6-484b-9ba0-79ba491132ca",
   "metadata": {},
   "outputs": [],
   "source": [
    "def softmaxEpoch(runs):\n",
    "    cost_softmax = []\n",
    "    for i in range(runs):\n",
    "        Z,A = nnfn.forwardPass(X,W,b)\n",
    "        dW,db = nnfn.backwardPass(W,A,Y,Z)\n",
    "        nnfn.updateParams(W,dW,b,db,alpha)\n",
    "        cost_softmax.append(np.sum(-np.multiply(Y,np.log(A[max(A)]+1e-8)))/Y.shape[1])\n",
    "    plt.plot(cost_softmax)\n",
    "    plt.xlabel('runs')\n",
    "    plt.ylabel('cost')\n",
    "    plt.title('softmax cost over runs')\n",
    "    plt.grid(True)\n",
    "    plt.plot()"
   ]
  },
  {
   "cell_type": "code",
   "execution_count": 35,
   "id": "94da14ad-e9e2-4971-807c-fdca3e7a1d05",
   "metadata": {
    "scrolled": true
   },
   "outputs": [
    {
     "ename": "TypeError",
     "evalue": "unsupported operand type(s) for +: 'dict' and 'float'",
     "output_type": "error",
     "traceback": [
      "\u001b[31m---------------------------------------------------------------------------\u001b[39m",
      "\u001b[31mTypeError\u001b[39m                                 Traceback (most recent call last)",
      "\u001b[36mCell\u001b[39m\u001b[36m \u001b[39m\u001b[32mIn[35]\u001b[39m\u001b[32m, line 1\u001b[39m\n\u001b[32m----> \u001b[39m\u001b[32m1\u001b[39m \u001b[43msoftmaxEpoch\u001b[49m\u001b[43m(\u001b[49m\u001b[32;43m1000\u001b[39;49m\u001b[43m)\u001b[49m\n",
      "\u001b[36mCell\u001b[39m\u001b[36m \u001b[39m\u001b[32mIn[34]\u001b[39m\u001b[32m, line 7\u001b[39m, in \u001b[36msoftmaxEpoch\u001b[39m\u001b[34m(runs)\u001b[39m\n\u001b[32m      5\u001b[39m     dW,db = nnfn.backwardPass(W,A,Y,Z)\n\u001b[32m      6\u001b[39m     nnfn.updateParams(W,dW,b,db,alpha)\n\u001b[32m----> \u001b[39m\u001b[32m7\u001b[39m     cost_softmax.append(np.sum(-np.multiply(Y,np.log(\u001b[43mA\u001b[49m\u001b[43m+\u001b[49m\u001b[32;43m1e-8\u001b[39;49m)))/Y.shape[\u001b[32m1\u001b[39m])\n\u001b[32m      8\u001b[39m plt.plot(cost_softmax)\n\u001b[32m      9\u001b[39m plt.xlabel(\u001b[33m'\u001b[39m\u001b[33mruns\u001b[39m\u001b[33m'\u001b[39m)\n",
      "\u001b[31mTypeError\u001b[39m: unsupported operand type(s) for +: 'dict' and 'float'"
     ]
    }
   ],
   "source": [
    "softmaxEpoch(1000)"
   ]
  },
  {
   "cell_type": "code",
   "execution_count": null,
   "id": "0c9ca8c9-7ae0-459a-bdf6-1dd7f611f609",
   "metadata": {},
   "outputs": [],
   "source": []
  }
 ],
 "metadata": {
  "kernelspec": {
   "display_name": "Python 3 (ipykernel)",
   "language": "python",
   "name": "python3"
  },
  "language_info": {
   "codemirror_mode": {
    "name": "ipython",
    "version": 3
   },
   "file_extension": ".py",
   "mimetype": "text/x-python",
   "name": "python",
   "nbconvert_exporter": "python",
   "pygments_lexer": "ipython3",
   "version": "3.12.5"
  }
 },
 "nbformat": 4,
 "nbformat_minor": 5
}
